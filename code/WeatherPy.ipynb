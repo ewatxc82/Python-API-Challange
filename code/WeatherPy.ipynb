{
 "cells": [
  {
   "cell_type": "markdown",
   "metadata": {},
   "source": [
    "# WeatherPy\n",
    "----\n",
    "\n",
    "#### Note\n",
    "* Instructions have been included for each segment. You do not have to follow them exactly, but they are included to help you think through the steps."
   ]
  },
  {
   "cell_type": "code",
   "execution_count": 24,
   "metadata": {
    "scrolled": true
   },
   "outputs": [],
   "source": [
    "# Dependencies and Setup\n",
    "import matplotlib.pyplot as plt\n",
    "import pandas as pd\n",
    "import numpy as np\n",
    "import requests\n",
    "import time\n",
    "from scipy.stats import linregress\n",
    "\n",
    "# Import API key\n",
    "from api_keys import weather_api_key\n",
    "\n",
    "# Incorporated citipy to determine city based on latitude and longitude\n",
    "from citipy import citipy\n",
    "\n",
    "# Output File (CSV)\n",
    "output_data_file = \"output_data/cities.csv\"\n",
    "\n",
    "# Range of latitudes and longitudes\n",
    "lat_range = (-90, 90)\n",
    "lng_range = (-180, 180)"
   ]
  },
  {
   "cell_type": "markdown",
   "metadata": {},
   "source": [
    "## Generate Cities List"
   ]
  },
  {
   "cell_type": "code",
   "execution_count": 2,
   "metadata": {},
   "outputs": [
    {
     "data": {
      "text/plain": [
       "620"
      ]
     },
     "execution_count": 2,
     "metadata": {},
     "output_type": "execute_result"
    }
   ],
   "source": [
    "# List for holding lat_lngs and cities\n",
    "lat_lngs = []\n",
    "cities = []\n",
    "\n",
    "# Create a set of random lat and lng combinations\n",
    "lats = np.random.uniform(lat_range[0], lat_range[1], size=1500)\n",
    "lngs = np.random.uniform(lng_range[0], lng_range[1], size=1500)\n",
    "lat_lngs = zip(lats, lngs)\n",
    "\n",
    "# Identify nearest city for each lat, lng combination\n",
    "for lat_lng in lat_lngs:\n",
    "    city = citipy.nearest_city(lat_lng[0], lat_lng[1]).city_name\n",
    "    \n",
    "    # If the city is unique, then add it to a our cities list\n",
    "    if city not in cities:\n",
    "        cities.append(city)\n",
    "\n",
    "# Print the city count to confirm sufficient count\n",
    "len(cities)"
   ]
  },
  {
   "cell_type": "markdown",
   "metadata": {},
   "source": [
    "### Perform API Calls\n",
    "* Perform a weather check on each city using a series of successive API calls.\n",
    "* Include a print log of each city as it'sbeing processed (with the city number and city name).\n"
   ]
  },
  {
   "cell_type": "code",
   "execution_count": 3,
   "metadata": {
    "scrolled": true
   },
   "outputs": [
    {
     "name": "stdout",
     "output_type": "stream",
     "text": [
      "http://api.openweathermap.org/data/2.5/weather?appid=0fcdae27300d0d35f7c2443882b04849&units=imperial&q=\n"
     ]
    }
   ],
   "source": [
    "units = \"imperial\"\n",
    "\n",
    "query_url = f\"http://api.openweathermap.org/data/2.5/weather?appid={weather_api_key}&units={units}&q=\"\n",
    "\n",
    "# define count of pass throughs\n",
    "count_one = 0\n",
    "set_one = 1\n",
    "\n",
    "print(query_url)"
   ]
  },
  {
   "cell_type": "markdown",
   "metadata": {},
   "source": [
    "### Convert Raw Data to DataFrame\n",
    "* Export the city data into a .csv.\n",
    "* Display the DataFrame"
   ]
  },
  {
   "cell_type": "code",
   "execution_count": 4,
   "metadata": {},
   "outputs": [
    {
     "name": "stdout",
     "output_type": "stream",
     "text": [
      "Processing Record 1 of Set 1 | faya\n",
      "Processing Record 2 of Set 1 | rikitea\n",
      "Processing Record 3 of Set 1 | carnarvon\n",
      "Processing Record 4 of Set 1 | matara\n",
      "Processing Record 5 of Set 1 | broome\n",
      "Processing Record 6 of Set 1 | cockburn town\n",
      "Processing Record 7 of Set 1 | miramar\n",
      "Processing Record 8 of Set 1 | ushuaia\n",
      "Processing Record 9 of Set 1 | sapernoye\n",
      "Processing Record 10 of Set 1 | sao filipe\n",
      "Processing Record 11 of Set 1 | fukue\n",
      "Processing Record 12 of Set 1 | maragogi\n",
      "Processing Record 13 of Set 1 | bluff\n",
      "Processing Record 14 of Set 1 | hithadhoo\n",
      "Processing Record 15 of Set 1 | hobart\n",
      "Processing Record 16 of Set 1 | vaini\n",
      "Processing Record 17 of Set 1 | tuktoyaktuk\n",
      "Processing Record 18 of Set 1 | faanui\n",
      "City not found. Skipping...\n",
      "Processing Record 19 of Set 1 | busselton\n",
      "Processing Record 20 of Set 1 | punta arenas\n",
      "Processing Record 21 of Set 1 | hay river\n",
      "Processing Record 22 of Set 1 | turayf\n",
      "Processing Record 23 of Set 1 | katsuura\n",
      "Processing Record 24 of Set 1 | college\n",
      "Processing Record 25 of Set 1 | bengkulu\n",
      "Processing Record 26 of Set 1 | mataura\n",
      "Processing Record 27 of Set 1 | hilo\n",
      "Processing Record 28 of Set 1 | puerto ayora\n",
      "Processing Record 29 of Set 1 | mar del plata\n",
      "Processing Record 30 of Set 1 | cape town\n",
      "Processing Record 31 of Set 1 | upernavik\n",
      "Processing Record 32 of Set 1 | avarua\n",
      "Processing Record 33 of Set 1 | lompoc\n",
      "Processing Record 34 of Set 1 | naliya\n",
      "Processing Record 35 of Set 1 | bima\n",
      "Processing Record 36 of Set 1 | kaitangata\n",
      "Processing Record 37 of Set 1 | salalah\n",
      "Processing Record 38 of Set 1 | vila franca do campo\n",
      "City not found. Skipping...\n",
      "Processing Record 39 of Set 1 | beidao\n",
      "City not found. Skipping...\n",
      "Processing Record 40 of Set 1 | tallahassee\n",
      "Processing Record 41 of Set 1 | scarborough\n",
      "City not found. Skipping...\n",
      "Processing Record 42 of Set 1 | tasiilaq\n",
      "Processing Record 43 of Set 1 | nouadhibou\n",
      "Processing Record 44 of Set 1 | superior\n",
      "Processing Record 45 of Set 1 | piranshahr\n",
      "Processing Record 46 of Set 1 | dikson\n",
      "Processing Record 47 of Set 1 | bredasdorp\n",
      "Processing Record 48 of Set 1 | narsaq\n",
      "Processing Record 49 of Set 1 | butaritari\n",
      "Processing Record 1 of Set 2 | nirgua\n",
      "Processing Record 2 of Set 2 | hasaki\n",
      "Processing Record 3 of Set 2 | aykhal\n",
      "Processing Record 4 of Set 2 | arraial do cabo\n",
      "Processing Record 5 of Set 2 | yellowknife\n",
      "Processing Record 6 of Set 2 | qasigiannguit\n",
      "Processing Record 7 of Set 2 | mayo\n",
      "Processing Record 8 of Set 2 | samoded\n",
      "Processing Record 9 of Set 2 | nantucket\n",
      "Processing Record 10 of Set 2 | malazgirt\n",
      "Processing Record 11 of Set 2 | lata\n",
      "Processing Record 12 of Set 2 | mahebourg\n",
      "Processing Record 13 of Set 2 | barrow\n",
      "Processing Record 14 of Set 2 | blyth\n",
      "Processing Record 15 of Set 2 | kaeo\n",
      "Processing Record 16 of Set 2 | nanortalik\n",
      "Processing Record 17 of Set 2 | toba\n",
      "Processing Record 18 of Set 2 | fairbanks\n",
      "Processing Record 19 of Set 2 | geraldton\n",
      "Processing Record 20 of Set 2 | jamestown\n",
      "Processing Record 21 of Set 2 | bowen\n",
      "Processing Record 22 of Set 2 | chicama\n",
      "City not found. Skipping...\n",
      "Processing Record 23 of Set 2 | kapaa\n",
      "Processing Record 24 of Set 2 | ouadda\n",
      "Processing Record 25 of Set 2 | dingle\n",
      "Processing Record 26 of Set 2 | chokurdakh\n",
      "Processing Record 27 of Set 2 | san policarpo\n",
      "Processing Record 28 of Set 2 | innisfail\n",
      "Processing Record 29 of Set 2 | maputi\n",
      "Processing Record 30 of Set 2 | castro\n",
      "Processing Record 31 of Set 2 | firsanovka\n",
      "City not found. Skipping...\n",
      "City not found. Skipping...\n",
      "Processing Record 32 of Set 2 | khorramshahr\n",
      "Processing Record 33 of Set 2 | hami\n",
      "Processing Record 34 of Set 2 | kaili\n",
      "Processing Record 35 of Set 2 | bandarbeyla\n",
      "Processing Record 36 of Set 2 | hualmay\n",
      "Processing Record 37 of Set 2 | cherskiy\n",
      "Processing Record 38 of Set 2 | champerico\n",
      "Processing Record 39 of Set 2 | lovozero\n",
      "City not found. Skipping...\n",
      "Processing Record 40 of Set 2 | smithers\n",
      "Processing Record 41 of Set 2 | lebu\n",
      "Processing Record 42 of Set 2 | esperance\n",
      "Processing Record 43 of Set 2 | port alfred\n",
      "Processing Record 44 of Set 2 | ongandjera\n",
      "Processing Record 45 of Set 2 | albany\n",
      "City not found. Skipping...\n",
      "Processing Record 46 of Set 2 | chuy\n",
      "Processing Record 47 of Set 2 | juneau\n",
      "Processing Record 48 of Set 2 | hervey bay\n",
      "Processing Record 49 of Set 2 | khatanga\n",
      "Processing Record 1 of Set 3 | nikolskoye\n",
      "Processing Record 2 of Set 3 | longyearbyen\n",
      "City not found. Skipping...\n",
      "Processing Record 3 of Set 3 | nome\n",
      "City not found. Skipping...\n",
      "Processing Record 4 of Set 3 | vostok\n",
      "Processing Record 5 of Set 3 | mlonggo\n",
      "Processing Record 6 of Set 3 | lagoa\n",
      "Processing Record 7 of Set 3 | lorengau\n",
      "Processing Record 8 of Set 3 | mount gambier\n",
      "Processing Record 9 of Set 3 | kashan\n",
      "Processing Record 10 of Set 3 | lavrentiya\n",
      "Processing Record 11 of Set 3 | portree\n",
      "Processing Record 12 of Set 3 | malanje\n",
      "Processing Record 13 of Set 3 | ancud\n",
      "Processing Record 14 of Set 3 | buriti bravo\n",
      "Processing Record 15 of Set 3 | torbay\n",
      "Processing Record 16 of Set 3 | pevek\n",
      "Processing Record 17 of Set 3 | coquimbo\n",
      "Processing Record 18 of Set 3 | grand river south east\n",
      "Processing Record 19 of Set 3 | minab\n",
      "Processing Record 20 of Set 3 | sept-iles\n",
      "Processing Record 21 of Set 3 | pozo colorado\n",
      "Processing Record 22 of Set 3 | gold coast\n",
      "City not found. Skipping...\n",
      "Processing Record 23 of Set 3 | bedesa\n",
      "Processing Record 24 of Set 3 | port-gentil\n",
      "Processing Record 25 of Set 3 | hermanus\n",
      "Processing Record 26 of Set 3 | blagoyevo\n",
      "Processing Record 27 of Set 3 | beyneu\n",
      "Processing Record 28 of Set 3 | kemijarvi\n",
      "Processing Record 29 of Set 3 | atuona\n",
      "Processing Record 30 of Set 3 | santa barbara\n",
      "Processing Record 31 of Set 3 | east london\n",
      "Processing Record 32 of Set 3 | takoradi\n",
      "Processing Record 33 of Set 3 | nelson bay\n",
      "Processing Record 34 of Set 3 | kodiak\n",
      "Processing Record 35 of Set 3 | bethel\n",
      "Processing Record 36 of Set 3 | kristianstad\n",
      "Processing Record 37 of Set 3 | souillac\n",
      "Processing Record 38 of Set 3 | poum\n",
      "Processing Record 39 of Set 3 | dunedin\n",
      "City not found. Skipping...\n",
      "Processing Record 40 of Set 3 | santa maria do suacui\n",
      "Processing Record 41 of Set 3 | sao joao da barra\n",
      "Processing Record 42 of Set 3 | saskylakh\n",
      "Processing Record 43 of Set 3 | vagur\n",
      "Processing Record 44 of Set 3 | namibe\n",
      "Processing Record 45 of Set 3 | yulara\n",
      "Processing Record 46 of Set 3 | qaanaaq\n",
      "City not found. Skipping...\n",
      "Processing Record 47 of Set 3 | georgetown\n",
      "Processing Record 48 of Set 3 | santa maria\n",
      "City not found. Skipping...\n",
      "Processing Record 49 of Set 3 | pala\n",
      "Processing Record 1 of Set 4 | griffith\n",
      "Processing Record 2 of Set 4 | alexander city\n",
      "Processing Record 3 of Set 4 | ponte nova\n",
      "Processing Record 4 of Set 4 | sungaipenuh\n",
      "Processing Record 5 of Set 4 | aksu\n",
      "Processing Record 6 of Set 4 | port blair\n",
      "Processing Record 7 of Set 4 | sobolevo\n",
      "Processing Record 8 of Set 4 | saint-philippe\n",
      "Processing Record 9 of Set 4 | cabo san lucas\n",
      "City not found. Skipping...\n",
      "Processing Record 10 of Set 4 | tezu\n",
      "Processing Record 11 of Set 4 | platteville\n",
      "Processing Record 12 of Set 4 | arlit\n",
      "Processing Record 13 of Set 4 | nipawin\n",
      "Processing Record 14 of Set 4 | uyar\n",
      "Processing Record 15 of Set 4 | porto novo\n",
      "Processing Record 16 of Set 4 | zhengjiatun\n",
      "Processing Record 17 of Set 4 | ostrovnoy\n",
      "Processing Record 18 of Set 4 | lasa\n",
      "Processing Record 19 of Set 4 | aswan\n",
      "Processing Record 20 of Set 4 | kismayo\n",
      "Processing Record 21 of Set 4 | caravelas\n",
      "Processing Record 22 of Set 4 | moultonborough\n",
      "Processing Record 23 of Set 4 | san vicente\n",
      "City not found. Skipping...\n",
      "Processing Record 24 of Set 4 | murakami\n",
      "Processing Record 25 of Set 4 | wilmington\n",
      "Processing Record 26 of Set 4 | alyangula\n",
      "Processing Record 27 of Set 4 | marrakesh\n",
      "Processing Record 28 of Set 4 | san patricio\n",
      "Processing Record 29 of Set 4 | hamilton\n",
      "Processing Record 30 of Set 4 | nuuk\n",
      "Processing Record 31 of Set 4 | duku\n",
      "Processing Record 32 of Set 4 | dukat\n",
      "Processing Record 33 of Set 4 | ayan\n",
      "Processing Record 34 of Set 4 | castelo\n",
      "Processing Record 35 of Set 4 | huilong\n",
      "Processing Record 36 of Set 4 | murray bridge\n",
      "Processing Record 37 of Set 4 | saurimo\n",
      "Processing Record 38 of Set 4 | alofi\n",
      "Processing Record 39 of Set 4 | kodinsk\n",
      "City not found. Skipping...\n",
      "City not found. Skipping...\n",
      "Processing Record 40 of Set 4 | vao\n",
      "Processing Record 41 of Set 4 | khair\n"
     ]
    },
    {
     "name": "stdout",
     "output_type": "stream",
     "text": [
      "Processing Record 42 of Set 4 | coyaima\n",
      "City not found. Skipping...\n",
      "City not found. Skipping...\n",
      "Processing Record 43 of Set 4 | iqaluit\n",
      "Processing Record 44 of Set 4 | rio grande\n",
      "Processing Record 45 of Set 4 | sambava\n",
      "Processing Record 46 of Set 4 | olden\n",
      "City not found. Skipping...\n",
      "Processing Record 47 of Set 4 | alibag\n",
      "Processing Record 48 of Set 4 | sitka\n",
      "Processing Record 49 of Set 4 | marsa matruh\n",
      "Processing Record 1 of Set 5 | riyadh\n",
      "Processing Record 2 of Set 5 | ukiah\n",
      "Processing Record 3 of Set 5 | rio blanco\n",
      "Processing Record 4 of Set 5 | moba\n",
      "Processing Record 5 of Set 5 | ucluelet\n",
      "Processing Record 6 of Set 5 | rawson\n",
      "City not found. Skipping...\n",
      "Processing Record 7 of Set 5 | armacao dos buzios\n",
      "City not found. Skipping...\n",
      "Processing Record 8 of Set 5 | yar-sale\n",
      "Processing Record 9 of Set 5 | deputatskiy\n",
      "Processing Record 10 of Set 5 | samarai\n",
      "Processing Record 11 of Set 5 | lazaro cardenas\n",
      "Processing Record 12 of Set 5 | elat\n",
      "Processing Record 13 of Set 5 | port lincoln\n",
      "Processing Record 14 of Set 5 | hargeysa\n",
      "Processing Record 15 of Set 5 | thompson\n",
      "Processing Record 16 of Set 5 | mys shmidta\n",
      "Processing Record 17 of Set 5 | mashhad\n",
      "Processing Record 18 of Set 5 | vanderhoof\n",
      "Processing Record 19 of Set 5 | tessalit\n",
      "City not found. Skipping...\n",
      "Processing Record 20 of Set 5 | beringovskiy\n",
      "Processing Record 21 of Set 5 | tilichiki\n",
      "Processing Record 22 of Set 5 | port elizabeth\n",
      "Processing Record 23 of Set 5 | aklavik\n",
      "Processing Record 24 of Set 5 | khromtau\n",
      "Processing Record 25 of Set 5 | clovis\n",
      "Processing Record 26 of Set 5 | muriwai beach\n",
      "Processing Record 27 of Set 5 | norman wells\n",
      "Processing Record 28 of Set 5 | asau\n",
      "Processing Record 29 of Set 5 | menongue\n",
      "Processing Record 30 of Set 5 | nyurba\n",
      "Processing Record 31 of Set 5 | sarangani\n",
      "Processing Record 32 of Set 5 | aksehir\n",
      "Processing Record 33 of Set 5 | bur gabo\n",
      "Processing Record 34 of Set 5 | bambous virieux\n",
      "Processing Record 35 of Set 5 | bend\n",
      "City not found. Skipping...\n",
      "Processing Record 36 of Set 5 | uturoa\n",
      "Processing Record 37 of Set 5 | new norfolk\n",
      "Processing Record 38 of Set 5 | tuatapere\n",
      "Processing Record 39 of Set 5 | sur\n",
      "Processing Record 40 of Set 5 | ponta do sol\n",
      "Processing Record 41 of Set 5 | zaranj\n",
      "City not found. Skipping...\n",
      "Processing Record 42 of Set 5 | saint-pierre\n",
      "Processing Record 43 of Set 5 | sorong\n",
      "Processing Record 44 of Set 5 | christchurch\n",
      "Processing Record 45 of Set 5 | susehri\n",
      "Processing Record 46 of Set 5 | cabedelo\n",
      "Processing Record 47 of Set 5 | san juan del sur\n",
      "Processing Record 48 of Set 5 | tukrah\n",
      "Processing Record 49 of Set 5 | santo andre\n",
      "Processing Record 1 of Set 6 | tiksi\n",
      "Processing Record 2 of Set 6 | tabas\n",
      "Processing Record 3 of Set 6 | makakilo city\n",
      "Processing Record 4 of Set 6 | isangel\n",
      "Processing Record 5 of Set 6 | mahon\n",
      "Processing Record 6 of Set 6 | oistins\n",
      "City not found. Skipping...\n",
      "Processing Record 7 of Set 6 | eyl\n",
      "Processing Record 8 of Set 6 | kankan\n",
      "Processing Record 9 of Set 6 | dmitriyevskoye\n",
      "Processing Record 10 of Set 6 | sekoma\n",
      "City not found. Skipping...\n",
      "Processing Record 11 of Set 6 | kruisfontein\n",
      "Processing Record 12 of Set 6 | puerto narino\n",
      "Processing Record 13 of Set 6 | antsohihy\n",
      "Processing Record 14 of Set 6 | phalodi\n",
      "Processing Record 15 of Set 6 | vestmanna\n",
      "Processing Record 16 of Set 6 | krasnovishersk\n",
      "Processing Record 17 of Set 6 | kefalos\n",
      "Processing Record 18 of Set 6 | jerusalem\n",
      "Processing Record 19 of Set 6 | paita\n",
      "Processing Record 20 of Set 6 | savannakhet\n",
      "Processing Record 21 of Set 6 | mitsamiouli\n",
      "City not found. Skipping...\n",
      "Processing Record 22 of Set 6 | laguna\n",
      "Processing Record 23 of Set 6 | farafangana\n",
      "Processing Record 24 of Set 6 | north bend\n",
      "Processing Record 25 of Set 6 | kavaratti\n",
      "Processing Record 26 of Set 6 | provideniya\n",
      "Processing Record 27 of Set 6 | micheweni\n",
      "Processing Record 28 of Set 6 | qiyang\n",
      "Processing Record 29 of Set 6 | mormugao\n",
      "Processing Record 30 of Set 6 | snezhnogorsk\n",
      "Processing Record 31 of Set 6 | zhmerynka\n",
      "Processing Record 32 of Set 6 | korla\n",
      "Processing Record 33 of Set 6 | kahului\n",
      "Processing Record 34 of Set 6 | ironton\n",
      "Processing Record 35 of Set 6 | pacific grove\n",
      "Processing Record 36 of Set 6 | yermish\n",
      "Processing Record 37 of Set 6 | skjervoy\n",
      "Processing Record 38 of Set 6 | ribeira grande\n",
      "Processing Record 39 of Set 6 | sinnamary\n",
      "Processing Record 40 of Set 6 | cayenne\n",
      "Processing Record 41 of Set 6 | santa fe\n",
      "Processing Record 42 of Set 6 | talaya\n",
      "Processing Record 43 of Set 6 | atambua\n",
      "Processing Record 44 of Set 6 | mogadishu\n",
      "Processing Record 45 of Set 6 | tura\n",
      "Processing Record 46 of Set 6 | hofn\n",
      "Processing Record 47 of Set 6 | anloga\n",
      "Processing Record 48 of Set 6 | bonavista\n",
      "Processing Record 49 of Set 6 | cap malheureux\n",
      "Processing Record 1 of Set 7 | adrar\n",
      "Processing Record 2 of Set 7 | pahrump\n",
      "City not found. Skipping...\n",
      "Processing Record 3 of Set 7 | gimli\n",
      "Processing Record 4 of Set 7 | orizona\n",
      "City not found. Skipping...\n",
      "Processing Record 5 of Set 7 | hammerfest\n",
      "Processing Record 6 of Set 7 | manadhoo\n",
      "Processing Record 7 of Set 7 | moindou\n",
      "Processing Record 8 of Set 7 | sarkand\n",
      "Processing Record 9 of Set 7 | komsomolskiy\n",
      "Processing Record 10 of Set 7 | ibipeba\n",
      "Processing Record 11 of Set 7 | tamandare\n",
      "Processing Record 12 of Set 7 | melo\n",
      "Processing Record 13 of Set 7 | punta alta\n",
      "Processing Record 14 of Set 7 | portland\n",
      "Processing Record 15 of Set 7 | berlevag\n",
      "Processing Record 16 of Set 7 | yenagoa\n",
      "Processing Record 17 of Set 7 | myaundzha\n",
      "Processing Record 18 of Set 7 | manggar\n",
      "City not found. Skipping...\n",
      "Processing Record 19 of Set 7 | bharatpur\n",
      "Processing Record 20 of Set 7 | magdagachi\n",
      "Processing Record 21 of Set 7 | oktyabrskoye\n",
      "Processing Record 22 of Set 7 | erzin\n",
      "Processing Record 23 of Set 7 | muros\n",
      "Processing Record 24 of Set 7 | ponta delgada\n",
      "Processing Record 25 of Set 7 | saint-francois\n",
      "Processing Record 26 of Set 7 | sol-iletsk\n",
      "Processing Record 27 of Set 7 | balkhash\n",
      "City not found. Skipping...\n",
      "Processing Record 28 of Set 7 | tonekabon\n",
      "Processing Record 29 of Set 7 | tevaitoa\n",
      "Processing Record 30 of Set 7 | wronki\n",
      "Processing Record 31 of Set 7 | viru\n",
      "Processing Record 32 of Set 7 | grand gaube\n",
      "Processing Record 33 of Set 7 | yuryev-polskiy\n",
      "Processing Record 34 of Set 7 | zhigansk\n",
      "Processing Record 35 of Set 7 | ushtobe\n",
      "Processing Record 36 of Set 7 | vaitape\n",
      "Processing Record 37 of Set 7 | sayyan\n",
      "Processing Record 38 of Set 7 | sibolga\n",
      "Processing Record 39 of Set 7 | omsukchan\n",
      "Processing Record 40 of Set 7 | along\n",
      "Processing Record 41 of Set 7 | inyonga\n",
      "Processing Record 42 of Set 7 | rincon\n",
      "Processing Record 43 of Set 7 | vila velha\n",
      "Processing Record 44 of Set 7 | buncrana\n",
      "Processing Record 45 of Set 7 | freetown\n",
      "Processing Record 46 of Set 7 | sangar\n",
      "City not found. Skipping...\n",
      "Processing Record 47 of Set 7 | severo-kurilsk\n",
      "Processing Record 48 of Set 7 | shimoda\n",
      "City not found. Skipping...\n",
      "Processing Record 49 of Set 7 | novosergiyevka\n",
      "Processing Record 1 of Set 8 | marawi\n",
      "Processing Record 2 of Set 8 | boden\n",
      "Processing Record 3 of Set 8 | jacksonville\n",
      "Processing Record 4 of Set 8 | yashkino\n",
      "Processing Record 5 of Set 8 | goderich\n",
      "Processing Record 6 of Set 8 | cidreira\n",
      "Processing Record 7 of Set 8 | kloulklubed\n",
      "Processing Record 8 of Set 8 | ekibastuz\n",
      "Processing Record 9 of Set 8 | mentougou\n",
      "Processing Record 10 of Set 8 | novyy urengoy\n",
      "Processing Record 11 of Set 8 | iskateley\n",
      "City not found. Skipping...\n",
      "Processing Record 12 of Set 8 | sedro-woolley\n",
      "City not found. Skipping...\n",
      "City not found. Skipping...\n",
      "Processing Record 13 of Set 8 | shenjiamen\n",
      "Processing Record 14 of Set 8 | illapel\n",
      "Processing Record 15 of Set 8 | agropoli\n",
      "Processing Record 16 of Set 8 | shalakusha\n",
      "Processing Record 17 of Set 8 | sinjai\n",
      "Processing Record 18 of Set 8 | yashkul\n",
      "Processing Record 19 of Set 8 | kovernino\n",
      "Processing Record 20 of Set 8 | fortuna\n",
      "Processing Record 21 of Set 8 | bardiyah\n",
      "Processing Record 22 of Set 8 | kachiry\n",
      "Processing Record 23 of Set 8 | kungur\n",
      "Processing Record 24 of Set 8 | yatou\n",
      "Processing Record 25 of Set 8 | parrita\n",
      "Processing Record 26 of Set 8 | sakaraha\n",
      "City not found. Skipping...\n",
      "Processing Record 27 of Set 8 | south lake tahoe\n",
      "Processing Record 28 of Set 8 | omboue\n",
      "Processing Record 29 of Set 8 | stromness\n",
      "Processing Record 30 of Set 8 | mandalgovi\n",
      "Processing Record 31 of Set 8 | ouargaye\n"
     ]
    },
    {
     "name": "stdout",
     "output_type": "stream",
     "text": [
      "Processing Record 32 of Set 8 | mount isa\n",
      "Processing Record 33 of Set 8 | kharan\n",
      "Processing Record 34 of Set 8 | touros\n",
      "Processing Record 35 of Set 8 | segou\n",
      "Processing Record 36 of Set 8 | maua\n",
      "Processing Record 37 of Set 8 | lumsden\n",
      "Processing Record 38 of Set 8 | taltal\n",
      "Processing Record 39 of Set 8 | arani\n",
      "Processing Record 40 of Set 8 | port-cartier\n",
      "Processing Record 41 of Set 8 | svetlogorsk\n",
      "Processing Record 42 of Set 8 | westport\n",
      "Processing Record 43 of Set 8 | avera\n",
      "Processing Record 44 of Set 8 | thaba-tseka\n",
      "City not found. Skipping...\n",
      "Processing Record 45 of Set 8 | imperia\n",
      "Processing Record 46 of Set 8 | biak\n",
      "Processing Record 47 of Set 8 | chincholi\n",
      "Processing Record 48 of Set 8 | solnechnyy\n",
      "Processing Record 49 of Set 8 | klaksvik\n",
      "Processing Record 1 of Set 9 | pueblo bello\n",
      "Processing Record 2 of Set 9 | moerai\n",
      "City not found. Skipping...\n",
      "Processing Record 3 of Set 9 | bilibino\n",
      "Processing Record 4 of Set 9 | tindwari\n",
      "Processing Record 5 of Set 9 | shubarshi\n",
      "Processing Record 6 of Set 9 | anadyr\n",
      "Processing Record 7 of Set 9 | pouebo\n",
      "Processing Record 8 of Set 9 | nan\n",
      "City not found. Skipping...\n",
      "Processing Record 9 of Set 9 | fayaoue\n",
      "Processing Record 10 of Set 9 | viedma\n",
      "Processing Record 11 of Set 9 | lamar\n",
      "Processing Record 12 of Set 9 | beloha\n",
      "Processing Record 13 of Set 9 | greci\n",
      "Processing Record 14 of Set 9 | olafsvik\n",
      "Processing Record 15 of Set 9 | molochnoye\n",
      "Processing Record 16 of Set 9 | saint-augustin\n",
      "City not found. Skipping...\n",
      "Processing Record 17 of Set 9 | zeya\n",
      "City not found. Skipping...\n",
      "Processing Record 18 of Set 9 | lai\n",
      "Processing Record 19 of Set 9 | buluang\n",
      "Processing Record 20 of Set 9 | aquiraz\n",
      "Processing Record 21 of Set 9 | tarakan\n",
      "Processing Record 22 of Set 9 | udachnyy\n",
      "Processing Record 23 of Set 9 | matagami\n",
      "Processing Record 24 of Set 9 | bonoua\n",
      "Processing Record 25 of Set 9 | monforte de lemos\n",
      "Processing Record 26 of Set 9 | ishigaki\n",
      "Processing Record 27 of Set 9 | abu kamal\n",
      "Processing Record 28 of Set 9 | lahij\n",
      "Processing Record 29 of Set 9 | qaqortoq\n",
      "Processing Record 30 of Set 9 | karratha\n",
      "Processing Record 31 of Set 9 | mata de sao joao\n",
      "Processing Record 32 of Set 9 | burnie\n",
      "Processing Record 33 of Set 9 | inuvik\n",
      "Processing Record 34 of Set 9 | imeni karla libknekhta\n",
      "Processing Record 35 of Set 9 | trincomalee\n",
      "Processing Record 36 of Set 9 | bella vista\n",
      "Processing Record 37 of Set 9 | nichinan\n",
      "Processing Record 38 of Set 9 | batman\n",
      "City not found. Skipping...\n",
      "Processing Record 39 of Set 9 | sakakah\n",
      "Processing Record 40 of Set 9 | gouyave\n",
      "Processing Record 41 of Set 9 | murupara\n",
      "Processing Record 42 of Set 9 | hyderabad\n",
      "Processing Record 43 of Set 9 | talnakh\n",
      "Processing Record 44 of Set 9 | arandis\n",
      "City not found. Skipping...\n",
      "Processing Record 45 of Set 9 | port hardy\n",
      "Processing Record 46 of Set 9 | sao tome\n",
      "Processing Record 47 of Set 9 | boyuibe\n",
      "Processing Record 48 of Set 9 | petukhovo\n",
      "Processing Record 49 of Set 9 | pisco\n",
      "Processing Record 1 of Set 10 | hanna\n",
      "City not found. Skipping...\n",
      "Processing Record 2 of Set 10 | shelburne\n",
      "Processing Record 3 of Set 10 | srednekolymsk\n",
      "City not found. Skipping...\n",
      "Processing Record 4 of Set 10 | sorland\n",
      "Processing Record 5 of Set 10 | goundam\n",
      "Processing Record 6 of Set 10 | palmer\n",
      "Processing Record 7 of Set 10 | konstantinovka\n",
      "Processing Record 8 of Set 10 | clyde river\n",
      "Processing Record 9 of Set 10 | victoria\n",
      "Processing Record 10 of Set 10 | jalu\n",
      "Processing Record 11 of Set 10 | otradnoye\n",
      "Processing Record 12 of Set 10 | noyabrsk\n",
      "Processing Record 13 of Set 10 | pangnirtung\n",
      "City not found. Skipping...\n",
      "Processing Record 14 of Set 10 | almeirim\n",
      "Processing Record 15 of Set 10 | prata\n",
      "City not found. Skipping...\n",
      "Processing Record 16 of Set 10 | magadan\n",
      "Processing Record 17 of Set 10 | leningradskiy\n",
      "Processing Record 18 of Set 10 | mehamn\n",
      "Processing Record 19 of Set 10 | koslan\n",
      "Processing Record 20 of Set 10 | williston\n",
      "Processing Record 21 of Set 10 | lodwar\n",
      "Processing Record 22 of Set 10 | andenes\n",
      "Processing Record 23 of Set 10 | malakal\n",
      "Processing Record 24 of Set 10 | tahoua\n",
      "City not found. Skipping...\n",
      "Processing Record 25 of Set 10 | huarmey\n",
      "Processing Record 26 of Set 10 | sipe sipe\n",
      "Processing Record 27 of Set 10 | padang\n",
      "Processing Record 28 of Set 10 | macon\n",
      "Processing Record 29 of Set 10 | port said\n",
      "Processing Record 30 of Set 10 | port hedland\n",
      "Processing Record 31 of Set 10 | rocha\n",
      "Processing Record 32 of Set 10 | west wendover\n",
      "City not found. Skipping...\n",
      "Processing Record 33 of Set 10 | arman\n",
      "Processing Record 34 of Set 10 | linqiong\n",
      "Processing Record 35 of Set 10 | phan thiet\n",
      "Processing Record 36 of Set 10 | obidos\n",
      "Processing Record 37 of Set 10 | mpanda\n",
      "Processing Record 38 of Set 10 | gigmoto\n",
      "Processing Record 39 of Set 10 | inhambane\n",
      "Processing Record 40 of Set 10 | pokhara\n",
      "Processing Record 41 of Set 10 | hukuntsi\n",
      "Processing Record 42 of Set 10 | petropavlovsk-kamchatskiy\n",
      "Processing Record 43 of Set 10 | ferkessedougou\n",
      "Processing Record 44 of Set 10 | cururupu\n",
      "Processing Record 45 of Set 10 | meulaboh\n",
      "Processing Record 46 of Set 10 | san cristobal\n",
      "Processing Record 47 of Set 10 | saint-joseph\n",
      "Processing Record 48 of Set 10 | flin flon\n",
      "Processing Record 49 of Set 10 | bathsheba\n",
      "Processing Record 1 of Set 11 | pedernales\n",
      "Processing Record 2 of Set 11 | amapa\n",
      "Processing Record 3 of Set 11 | zomba\n",
      "Processing Record 4 of Set 11 | jiujiang\n",
      "City not found. Skipping...\n",
      "Processing Record 5 of Set 11 | pundaguitan\n",
      "Processing Record 6 of Set 11 | xining\n",
      "Processing Record 7 of Set 11 | taman\n",
      "Processing Record 8 of Set 11 | noumea\n",
      "Processing Record 9 of Set 11 | svetlyy\n",
      "Processing Record 10 of Set 11 | serabu\n",
      "Processing Record 11 of Set 11 | dunmore east\n",
      "Processing Record 12 of Set 11 | chumikan\n",
      "Processing Record 13 of Set 11 | savannah bight\n",
      "Processing Record 14 of Set 11 | muhldorf\n",
      "Processing Record 15 of Set 11 | fairlie\n",
      "Processing Record 16 of Set 11 | shache\n",
      "Processing Record 17 of Set 11 | lisakovsk\n",
      "Processing Record 18 of Set 11 | paamiut\n",
      "City not found. Skipping...\n",
      "Processing Record 19 of Set 11 | les cayes\n",
      "Processing Record 20 of Set 11 | saldanha\n",
      "Processing Record 21 of Set 11 | airai\n",
      "Processing Record 22 of Set 11 | ghotki\n",
      "Processing Record 23 of Set 11 | minna\n",
      "Processing Record 24 of Set 11 | bilopillya\n",
      "Processing Record 25 of Set 11 | soe\n",
      "Processing Record 26 of Set 11 | constitucion\n",
      "Processing Record 27 of Set 11 | vangaindrano\n",
      "Processing Record 28 of Set 11 | abnub\n",
      "Processing Record 29 of Set 11 | palencia\n",
      "Processing Record 30 of Set 11 | comodoro rivadavia\n",
      "Processing Record 31 of Set 11 | kavieng\n",
      "Processing Record 32 of Set 11 | pangai\n",
      "Processing Record 33 of Set 11 | harper\n",
      "City not found. Skipping...\n",
      "Processing Record 34 of Set 11 | husavik\n",
      "Processing Record 35 of Set 11 | cap-aux-meules\n",
      "City not found. Skipping...\n",
      "Processing Record 36 of Set 11 | veraval\n",
      "Processing Record 37 of Set 11 | puerto escondido\n",
      "Processing Record 38 of Set 11 | mitu\n",
      "Processing Record 39 of Set 11 | chara\n",
      "Processing Record 40 of Set 11 | fort saint john\n",
      "Processing Record 41 of Set 11 | igboho\n",
      "Processing Record 42 of Set 11 | oranjemund\n",
      "Processing Record 43 of Set 11 | raudeberg\n",
      "Processing Record 44 of Set 11 | nizhnevartovsk\n",
      "Processing Record 45 of Set 11 | vilyuysk\n",
      "Processing Record 46 of Set 11 | yamada\n",
      "Processing Record 47 of Set 11 | eureka\n",
      "Processing Record 48 of Set 11 | nanzhou\n",
      "Processing Record 49 of Set 11 | lima\n",
      "Processing Record 1 of Set 12 | morro bay\n",
      "Processing Record 2 of Set 12 | araouane\n",
      "City not found. Skipping...\n",
      "City not found. Skipping...\n",
      "City not found. Skipping...\n",
      "Processing Record 3 of Set 12 | kharp\n",
      "Processing Record 4 of Set 12 | katobu\n",
      "Processing Record 5 of Set 12 | acajutla\n",
      "Processing Record 6 of Set 12 | inongo\n",
      "Processing Record 7 of Set 12 | sola\n",
      "Processing Record 8 of Set 12 | hoopstad\n",
      "Processing Record 9 of Set 12 | oliveira dos brejinhos\n",
      "Processing Record 10 of Set 12 | marystown\n",
      "Processing Record 11 of Set 12 | trelleborg\n",
      "Processing Record 12 of Set 12 | mama\n",
      "Processing Record 13 of Set 12 | coahuayana\n",
      "Processing Record 14 of Set 12 | bay roberts\n",
      "Processing Record 15 of Set 12 | san jose\n",
      "Processing Record 16 of Set 12 | luderitz\n",
      "Processing Record 17 of Set 12 | krasnoselkup\n",
      "Processing Record 18 of Set 12 | asosa\n",
      "City not found. Skipping...\n",
      "City not found. Skipping...\n"
     ]
    },
    {
     "name": "stdout",
     "output_type": "stream",
     "text": [
      "Processing Record 19 of Set 12 | aksarka\n",
      "-----------\n",
      "Data Retrieval Completed\n",
      "-----------\n"
     ]
    }
   ],
   "source": [
    "city_two = []\n",
    "cloudiness = []\n",
    "dates = []\n",
    "humidities = []\n",
    "lats = []\n",
    "lngs = []\n",
    "max_temps = []\n",
    "wind_speeds = []\n",
    "countries = []\n",
    "\n",
    "count_one = 0\n",
    "set_one = 1\n",
    "\n",
    "# loops for creating dataframe columns\n",
    "for city in cities:\n",
    "    try:\n",
    "        response = requests.get(query_url + city.replace(\" \",\"&\")).json()\n",
    "        cloudiness.append(response['clouds']['all'])\n",
    "        countries.append(response['sys']['country'])\n",
    "        dates.append(response['dt'])\n",
    "        humidities.append(response['main']['humidity'])\n",
    "        lats.append(response['coord']['lat'])\n",
    "        lngs.append(response['coord']['lon'])\n",
    "        max_temps.append(response['main']['temp_max'])\n",
    "        wind_speeds.append(response['wind']['speed'])\n",
    "        if count_one > 48:\n",
    "            count_one = 1\n",
    "            set_one += 1\n",
    "            city_two.append(city)\n",
    "        else:\n",
    "            count_one += 1\n",
    "            city_two.append(city)\n",
    "        print(f\"Processing Record {count_one} of Set {set_one} | {city}\")\n",
    "    except Exception:\n",
    "        print(\"City not found. Skipping...\")\n",
    "print(\"-----------\\nData Retrieval Completed\\n-----------\")"
   ]
  },
  {
   "cell_type": "code",
   "execution_count": 5,
   "metadata": {},
   "outputs": [],
   "source": [
    "weather_dictionary = {\n",
    "                \"City\": city_two,\n",
    "                \"Cloudiness\": cloudiness,\n",
    "                \"Country\": countries,\n",
    "                \"Date\": dates,\n",
    "                \"Humidity\": humidities,\n",
    "                \"Lat\": lats,\n",
    "                \"Lng\": lngs,\n",
    "                \"Max Temp\": max_temps,\n",
    "                \"Wind Speed\": wind_speeds\n",
    "}"
   ]
  },
  {
   "cell_type": "code",
   "execution_count": 27,
   "metadata": {},
   "outputs": [
    {
     "data": {
      "text/html": [
       "<div>\n",
       "<style scoped>\n",
       "    .dataframe tbody tr th:only-of-type {\n",
       "        vertical-align: middle;\n",
       "    }\n",
       "\n",
       "    .dataframe tbody tr th {\n",
       "        vertical-align: top;\n",
       "    }\n",
       "\n",
       "    .dataframe thead th {\n",
       "        text-align: right;\n",
       "    }\n",
       "</style>\n",
       "<table border=\"1\" class=\"dataframe\">\n",
       "  <thead>\n",
       "    <tr style=\"text-align: right;\">\n",
       "      <th></th>\n",
       "      <th>City</th>\n",
       "      <th>Cloudiness</th>\n",
       "      <th>Country</th>\n",
       "      <th>Date</th>\n",
       "      <th>Humidity</th>\n",
       "      <th>Lat</th>\n",
       "      <th>Lng</th>\n",
       "      <th>Max Temp</th>\n",
       "      <th>Wind Speed</th>\n",
       "    </tr>\n",
       "  </thead>\n",
       "  <tbody>\n",
       "    <tr>\n",
       "      <th>302</th>\n",
       "      <td>komsomolskiy</td>\n",
       "      <td>75</td>\n",
       "      <td>UZ</td>\n",
       "      <td>1607393761</td>\n",
       "      <td>91</td>\n",
       "      <td>40.43</td>\n",
       "      <td>71.72</td>\n",
       "      <td>32.00</td>\n",
       "      <td>0.16</td>\n",
       "    </tr>\n",
       "    <tr>\n",
       "      <th>286</th>\n",
       "      <td>talaya</td>\n",
       "      <td>65</td>\n",
       "      <td>RU</td>\n",
       "      <td>1607393759</td>\n",
       "      <td>86</td>\n",
       "      <td>61.38</td>\n",
       "      <td>152.75</td>\n",
       "      <td>-17.54</td>\n",
       "      <td>0.20</td>\n",
       "    </tr>\n",
       "    <tr>\n",
       "      <th>505</th>\n",
       "      <td>shache</td>\n",
       "      <td>100</td>\n",
       "      <td>CN</td>\n",
       "      <td>1607393798</td>\n",
       "      <td>96</td>\n",
       "      <td>38.42</td>\n",
       "      <td>77.24</td>\n",
       "      <td>15.64</td>\n",
       "      <td>0.36</td>\n",
       "    </tr>\n",
       "    <tr>\n",
       "      <th>514</th>\n",
       "      <td>soe</td>\n",
       "      <td>93</td>\n",
       "      <td>ID</td>\n",
       "      <td>1607393799</td>\n",
       "      <td>60</td>\n",
       "      <td>-9.86</td>\n",
       "      <td>124.28</td>\n",
       "      <td>83.89</td>\n",
       "      <td>0.36</td>\n",
       "    </tr>\n",
       "    <tr>\n",
       "      <th>156</th>\n",
       "      <td>tezu</td>\n",
       "      <td>0</td>\n",
       "      <td>IN</td>\n",
       "      <td>1607393735</td>\n",
       "      <td>43</td>\n",
       "      <td>27.92</td>\n",
       "      <td>96.17</td>\n",
       "      <td>66.51</td>\n",
       "      <td>0.38</td>\n",
       "    </tr>\n",
       "    <tr>\n",
       "      <th>...</th>\n",
       "      <td>...</td>\n",
       "      <td>...</td>\n",
       "      <td>...</td>\n",
       "      <td>...</td>\n",
       "      <td>...</td>\n",
       "      <td>...</td>\n",
       "      <td>...</td>\n",
       "      <td>...</td>\n",
       "      <td>...</td>\n",
       "    </tr>\n",
       "    <tr>\n",
       "      <th>277</th>\n",
       "      <td>kahului</td>\n",
       "      <td>40</td>\n",
       "      <td>US</td>\n",
       "      <td>1607393757</td>\n",
       "      <td>65</td>\n",
       "      <td>20.89</td>\n",
       "      <td>-156.47</td>\n",
       "      <td>82.40</td>\n",
       "      <td>26.40</td>\n",
       "    </tr>\n",
       "    <tr>\n",
       "      <th>434</th>\n",
       "      <td>talnakh</td>\n",
       "      <td>90</td>\n",
       "      <td>RU</td>\n",
       "      <td>1607393785</td>\n",
       "      <td>75</td>\n",
       "      <td>69.49</td>\n",
       "      <td>88.40</td>\n",
       "      <td>-14.80</td>\n",
       "      <td>29.08</td>\n",
       "    </tr>\n",
       "    <tr>\n",
       "      <th>371</th>\n",
       "      <td>stromness</td>\n",
       "      <td>100</td>\n",
       "      <td>GB</td>\n",
       "      <td>1607393774</td>\n",
       "      <td>93</td>\n",
       "      <td>58.97</td>\n",
       "      <td>-3.30</td>\n",
       "      <td>46.40</td>\n",
       "      <td>29.97</td>\n",
       "    </tr>\n",
       "    <tr>\n",
       "      <th>496</th>\n",
       "      <td>taman</td>\n",
       "      <td>0</td>\n",
       "      <td>RU</td>\n",
       "      <td>1607393796</td>\n",
       "      <td>79</td>\n",
       "      <td>45.21</td>\n",
       "      <td>36.72</td>\n",
       "      <td>24.80</td>\n",
       "      <td>31.32</td>\n",
       "    </tr>\n",
       "    <tr>\n",
       "      <th>140</th>\n",
       "      <td>vagur</td>\n",
       "      <td>100</td>\n",
       "      <td>FO</td>\n",
       "      <td>1607393732</td>\n",
       "      <td>74</td>\n",
       "      <td>61.47</td>\n",
       "      <td>-6.81</td>\n",
       "      <td>42.91</td>\n",
       "      <td>32.12</td>\n",
       "    </tr>\n",
       "  </tbody>\n",
       "</table>\n",
       "<p>558 rows × 9 columns</p>\n",
       "</div>"
      ],
      "text/plain": [
       "             City  Cloudiness Country        Date  Humidity    Lat     Lng  \\\n",
       "302  komsomolskiy          75      UZ  1607393761        91  40.43   71.72   \n",
       "286        talaya          65      RU  1607393759        86  61.38  152.75   \n",
       "505        shache         100      CN  1607393798        96  38.42   77.24   \n",
       "514           soe          93      ID  1607393799        60  -9.86  124.28   \n",
       "156          tezu           0      IN  1607393735        43  27.92   96.17   \n",
       "..            ...         ...     ...         ...       ...    ...     ...   \n",
       "277       kahului          40      US  1607393757        65  20.89 -156.47   \n",
       "434       talnakh          90      RU  1607393785        75  69.49   88.40   \n",
       "371     stromness         100      GB  1607393774        93  58.97   -3.30   \n",
       "496         taman           0      RU  1607393796        79  45.21   36.72   \n",
       "140         vagur         100      FO  1607393732        74  61.47   -6.81   \n",
       "\n",
       "     Max Temp  Wind Speed  \n",
       "302     32.00        0.16  \n",
       "286    -17.54        0.20  \n",
       "505     15.64        0.36  \n",
       "514     83.89        0.36  \n",
       "156     66.51        0.38  \n",
       "..        ...         ...  \n",
       "277     82.40       26.40  \n",
       "434    -14.80       29.08  \n",
       "371     46.40       29.97  \n",
       "496     24.80       31.32  \n",
       "140     42.91       32.12  \n",
       "\n",
       "[558 rows x 9 columns]"
      ]
     },
     "execution_count": 27,
     "metadata": {},
     "output_type": "execute_result"
    }
   ],
   "source": [
    "\n",
    "#Humidity Check - None are over 100%\n",
    "weather_dictionary_df = pd.DataFrame(weather_dictionary)\n",
    "weather_dictionary_df.sort_values(by='Humidity')\n",
    "weather_dictionary_df.sort_values(by='Wind Speed')"
   ]
  },
  {
   "cell_type": "code",
   "execution_count": 7,
   "metadata": {},
   "outputs": [],
   "source": [
    "#No humidity over 100 so this is clean data frame\n",
    "clean_city_data = weather_dictionary_df\n",
    "\n",
    "#Export data frame to csv\n",
    "clean_city_data.to_csv('clean_city_data.csv')"
   ]
  },
  {
   "cell_type": "markdown",
   "metadata": {},
   "source": [
    "## Inspect the data and remove the cities where the humidity > 100%.\n",
    "----\n",
    "Skip this step if there are no cities that have humidity > 100%. "
   ]
  },
  {
   "cell_type": "code",
   "execution_count": 28,
   "metadata": {},
   "outputs": [
    {
     "name": "stdout",
     "output_type": "stream",
     "text": [
      "Can skip this step. No cities over 100% humidity.\n"
     ]
    }
   ],
   "source": [
    "print('Can skip this step. No cities over 100% humidity.')"
   ]
  },
  {
   "cell_type": "code",
   "execution_count": 8,
   "metadata": {},
   "outputs": [],
   "source": [
    "#  Get the indices of cities that have humidity over 100%.\n"
   ]
  },
  {
   "cell_type": "code",
   "execution_count": 9,
   "metadata": {},
   "outputs": [],
   "source": [
    "# Make a new DataFrame equal to the city data to drop all humidity outliers by index.\n",
    "# Passing \"inplace=False\" will make a copy of the city_data DataFrame, which we call \"clean_city_data\".\n"
   ]
  },
  {
   "cell_type": "code",
   "execution_count": null,
   "metadata": {},
   "outputs": [],
   "source": [
    "\n"
   ]
  },
  {
   "cell_type": "markdown",
   "metadata": {},
   "source": [
    "## Plotting the Data\n",
    "* Use proper labeling of the plots using plot titles (including date of analysis) and axes labels.\n",
    "* Save the plotted figures as .pngs."
   ]
  },
  {
   "cell_type": "markdown",
   "metadata": {},
   "source": [
    "## Latitude vs. Temperature Plot"
   ]
  },
  {
   "cell_type": "code",
   "execution_count": 34,
   "metadata": {
    "scrolled": true
   },
   "outputs": [
    {
     "name": "stdout",
     "output_type": "stream",
     "text": [
      "The code is analyzing the maximum temperature and corresponding latitude figure for each city in the clean_city_data dataframe.\n"
     ]
    },
    {
     "data": {
      "image/png": "[encoded data removed]",
      "text/plain": [
       "<Figure size 432x288 with 1 Axes>"
      ]
     },
     "metadata": {
      "needs_background": "light"
     },
     "output_type": "display_data"
    }
   ],
   "source": [
    "plt.scatter(clean_city_data[\"Lat\"], clean_city_data[\"Max Temp\"], marker='o',s=30, edgecolors= \"black\")\n",
    "plt.title(\"City Latitude vs Max Temperature\")\n",
    "\n",
    "plt.ylim(0,100)\n",
    "plt.xlim(-60, 80)\n",
    "\n",
    "plt.ylabel(\"Max. Temperature (F)\")\n",
    "plt.xlabel(\"Latitude\")\n",
    "plt.grid()\n",
    "\n",
    "\n",
    "print('The code is analyzing the maximum temperature and corresponding latitude figure for each city in the clean_city_data dataframe.')\n",
    "\n",
    "plt.savefig(\"LATvMaxTemp.png\")\n"
   ]
  },
  {
   "cell_type": "markdown",
   "metadata": {},
   "source": [
    "## Latitude vs. Humidity Plot"
   ]
  },
  {
   "cell_type": "code",
   "execution_count": 38,
   "metadata": {},
   "outputs": [
    {
     "name": "stdout",
     "output_type": "stream",
     "text": [
      "The code is analyzing the maximum humidity and corresponding latitude figure for each city in the clean_city_data dataframe.\n"
     ]
    },
    {
     "data": {
      "image/png": "[encoded data removed]",
      "text/plain": [
       "<Figure size 432x288 with 1 Axes>"
      ]
     },
     "metadata": {
      "needs_background": "light"
     },
     "output_type": "display_data"
    }
   ],
   "source": [
    "plt.scatter(clean_city_data[\"Lat\"], clean_city_data[\"Humidity\"], marker='o', s=30, edgecolors= \"black\")\n",
    "plt.title(\"City Latitude vs Humidity\")\n",
    "plt.ylabel(\"Humidity Level (%)\")\n",
    "plt.xlabel(\"Latitude\")\n",
    "plt.grid()\n",
    "\n",
    "\n",
    "print('The code is analyzing the maximum humidity and corresponding latitude figure for each city in the clean_city_data dataframe.')\n",
    "plt.savefig(\"LATvHum.png\")"
   ]
  },
  {
   "cell_type": "markdown",
   "metadata": {},
   "source": [
    "## Latitude vs. Cloudiness Plot"
   ]
  },
  {
   "cell_type": "code",
   "execution_count": 39,
   "metadata": {},
   "outputs": [
    {
     "name": "stdout",
     "output_type": "stream",
     "text": [
      "The code is analyzing the cloudiness and corresponding latitude figure for each city in the clean_city_data dataframe.\n"
     ]
    },
    {
     "data": {
      "image/png": "[encoded data removed]",
      "text/plain": [
       "<Figure size 432x288 with 1 Axes>"
      ]
     },
     "metadata": {
      "needs_background": "light"
     },
     "output_type": "display_data"
    }
   ],
   "source": [
    "plt.scatter(clean_city_data[\"Lat\"], clean_city_data[\"Cloudiness\"], marker='o', s=30, edgecolors= \"black\")\n",
    "plt.title(\"City Latitude vs Cloudiness\")\n",
    "plt.ylabel(\"Cloudiness Level (%)\")\n",
    "plt.xlabel(\"Latitude\")\n",
    "plt.grid()\n",
    "\n",
    "\n",
    "\n",
    "print('The code is analyzing the cloudiness and corresponding latitude figure for each city in the clean_city_data dataframe.')\n",
    "plt.savefig(\"LATvCloud.png\")"
   ]
  },
  {
   "cell_type": "markdown",
   "metadata": {},
   "source": [
    "## Latitude vs. Wind Speed Plot"
   ]
  },
  {
   "cell_type": "code",
   "execution_count": 40,
   "metadata": {},
   "outputs": [
    {
     "name": "stdout",
     "output_type": "stream",
     "text": [
      "The code is analyzing the maximum wind speed and corresponding latitude figure for each city in the clean_city_data dataframe.\n"
     ]
    },
    {
     "data": {
      "image/png": "[encoded data removed]",
      "text/plain": [
       "<Figure size 432x288 with 1 Axes>"
      ]
     },
     "metadata": {
      "needs_background": "light"
     },
     "output_type": "display_data"
    }
   ],
   "source": [
    "plt.scatter(clean_city_data[\"Lat\"], clean_city_data[\"Wind Speed\"], marker='o', s=30, edgecolors= \"black\")\n",
    "plt.title(\"City Latitude vs Wind Speed\")\n",
    "plt.ylabel(\"Wind Speed (mph)\")\n",
    "plt.xlabel(\"Latitude\")\n",
    "plt.grid()\n",
    "\n",
    "\n",
    "print('The code is analyzing the maximum wind speed and corresponding latitude figure for each city in the clean_city_data dataframe.')\n",
    "plt.savefig(\"LATvWind.png\")"
   ]
  },
  {
   "cell_type": "markdown",
   "metadata": {},
   "source": [
    "## Linear Regression"
   ]
  },
  {
   "cell_type": "code",
   "execution_count": 14,
   "metadata": {},
   "outputs": [
    {
     "data": {
      "text/html": [
       "<div>\n",
       "<style scoped>\n",
       "    .dataframe tbody tr th:only-of-type {\n",
       "        vertical-align: middle;\n",
       "    }\n",
       "\n",
       "    .dataframe tbody tr th {\n",
       "        vertical-align: top;\n",
       "    }\n",
       "\n",
       "    .dataframe thead th {\n",
       "        text-align: right;\n",
       "    }\n",
       "</style>\n",
       "<table border=\"1\" class=\"dataframe\">\n",
       "  <thead>\n",
       "    <tr style=\"text-align: right;\">\n",
       "      <th></th>\n",
       "      <th>City</th>\n",
       "      <th>Cloudiness</th>\n",
       "      <th>Country</th>\n",
       "      <th>Date</th>\n",
       "      <th>Humidity</th>\n",
       "      <th>Lat</th>\n",
       "      <th>Lng</th>\n",
       "      <th>Max Temp</th>\n",
       "      <th>Wind Speed</th>\n",
       "    </tr>\n",
       "  </thead>\n",
       "  <tbody>\n",
       "    <tr>\n",
       "      <th>0</th>\n",
       "      <td>faya</td>\n",
       "      <td>0</td>\n",
       "      <td>SA</td>\n",
       "      <td>1607393704</td>\n",
       "      <td>66</td>\n",
       "      <td>18.39</td>\n",
       "      <td>42.45</td>\n",
       "      <td>51.80</td>\n",
       "      <td>0.74</td>\n",
       "    </tr>\n",
       "    <tr>\n",
       "      <th>3</th>\n",
       "      <td>matara</td>\n",
       "      <td>0</td>\n",
       "      <td>LK</td>\n",
       "      <td>1607393705</td>\n",
       "      <td>82</td>\n",
       "      <td>5.95</td>\n",
       "      <td>80.54</td>\n",
       "      <td>79.00</td>\n",
       "      <td>3.76</td>\n",
       "    </tr>\n",
       "    <tr>\n",
       "      <th>4</th>\n",
       "      <td>broome</td>\n",
       "      <td>90</td>\n",
       "      <td>US</td>\n",
       "      <td>1607393706</td>\n",
       "      <td>79</td>\n",
       "      <td>42.25</td>\n",
       "      <td>-75.83</td>\n",
       "      <td>27.00</td>\n",
       "      <td>12.75</td>\n",
       "    </tr>\n",
       "    <tr>\n",
       "      <th>6</th>\n",
       "      <td>miramar</td>\n",
       "      <td>20</td>\n",
       "      <td>US</td>\n",
       "      <td>1607393706</td>\n",
       "      <td>88</td>\n",
       "      <td>25.99</td>\n",
       "      <td>-80.23</td>\n",
       "      <td>66.20</td>\n",
       "      <td>9.17</td>\n",
       "    </tr>\n",
       "    <tr>\n",
       "      <th>8</th>\n",
       "      <td>sapernoye</td>\n",
       "      <td>0</td>\n",
       "      <td>RU</td>\n",
       "      <td>1607393707</td>\n",
       "      <td>85</td>\n",
       "      <td>60.72</td>\n",
       "      <td>29.95</td>\n",
       "      <td>24.01</td>\n",
       "      <td>7.34</td>\n",
       "    </tr>\n",
       "  </tbody>\n",
       "</table>\n",
       "</div>"
      ],
      "text/plain": [
       "        City  Cloudiness Country        Date  Humidity    Lat    Lng  \\\n",
       "0       faya           0      SA  1607393704        66  18.39  42.45   \n",
       "3     matara           0      LK  1607393705        82   5.95  80.54   \n",
       "4     broome          90      US  1607393706        79  42.25 -75.83   \n",
       "6    miramar          20      US  1607393706        88  25.99 -80.23   \n",
       "8  sapernoye           0      RU  1607393707        85  60.72  29.95   \n",
       "\n",
       "   Max Temp  Wind Speed  \n",
       "0     51.80        0.74  \n",
       "3     79.00        3.76  \n",
       "4     27.00       12.75  \n",
       "6     66.20        9.17  \n",
       "8     24.01        7.34  "
      ]
     },
     "execution_count": 14,
     "metadata": {},
     "output_type": "execute_result"
    }
   ],
   "source": [
    "north_hemisphere = clean_city_data.loc[clean_city_data['Lat']>0.01]\n",
    "south_hemisphere = clean_city_data.loc[clean_city_data['Lat']<-0.01]\n",
    "\n",
    "north_hemisphere.head()"
   ]
  },
  {
   "cell_type": "markdown",
   "metadata": {},
   "source": [
    "####  Northern Hemisphere - Max Temp vs. Latitude Linear Regression"
   ]
  },
  {
   "cell_type": "code",
   "execution_count": 43,
   "metadata": {},
   "outputs": [
    {
     "data": {
      "image/png": "[encoded data removed]",
      "text/plain": [
       "<Figure size 432x288 with 1 Axes>"
      ]
     },
     "metadata": {
      "needs_background": "light"
     },
     "output_type": "display_data"
    },
    {
     "name": "stdout",
     "output_type": "stream",
     "text": [
      "This graph shows us that there is a fairly strong correlation between latitude and maximum temperature. The closer to zero the latitude of a city is in the Northern Hemisphere, the higher the temperature.\n"
     ]
    },
    {
     "data": {
      "text/plain": [
       "<Figure size 432x288 with 0 Axes>"
      ]
     },
     "metadata": {},
     "output_type": "display_data"
    }
   ],
   "source": [
    "x_values = north_hemisphere['Lat']\n",
    "y_values = north_hemisphere['Max Temp']\n",
    "(slope, intercept, rvalue, pvalue, stderr) = linregress(x_values, y_values)\n",
    "regress_values = x_values * slope + intercept\n",
    "line_eq = \"y = \" + str(round(slope,2)) + \"x + \" + str(round(intercept,2))\n",
    "plt.scatter(x_values, y_values)\n",
    "plt.plot(x_values,regress_values,\"red\")\n",
    "\n",
    "plt.ylim(0,100)\n",
    "plt.xlim(0,85)\n",
    "\n",
    "plt.ylabel(\"Max Temp\")\n",
    "plt.xlabel('Latitude')\n",
    "plt.show()\n",
    "\n",
    "print('This graph shows us that there is a fairly strong correlation between latitude and maximum temperature. The closer to zero the latitude of a city is in the Northern Hemisphere, the higher the temperature.')\n",
    "plt.savefig(\"LATvMaxTemp-North.png\")"
   ]
  },
  {
   "cell_type": "markdown",
   "metadata": {},
   "source": [
    "####  Southern Hemisphere - Max Temp vs. Latitude Linear Regression"
   ]
  },
  {
   "cell_type": "code",
   "execution_count": 44,
   "metadata": {},
   "outputs": [
    {
     "data": {
      "image/png": "[encoded data removed]",
      "text/plain": [
       "<Figure size 432x288 with 1 Axes>"
      ]
     },
     "metadata": {
      "needs_background": "light"
     },
     "output_type": "display_data"
    },
    {
     "name": "stdout",
     "output_type": "stream",
     "text": [
      "This graph shows us that there is a loose correlation between latitude and maximum temperature in the Southern Hemisphere. The closer to zero, the higher the tempature. The correlation does not appear as strong as the previous graph.\n"
     ]
    },
    {
     "data": {
      "text/plain": [
       "<Figure size 432x288 with 0 Axes>"
      ]
     },
     "metadata": {},
     "output_type": "display_data"
    }
   ],
   "source": [
    "x_values = south_hemisphere['Lat']\n",
    "y_values = south_hemisphere['Max Temp']\n",
    "(slope, intercept, rvalue, pvalue, stderr) = linregress(x_values, y_values)\n",
    "regress_values = x_values * slope + intercept\n",
    "line_eq = \"y = \" + str(round(slope,2)) + \"x + \" + str(round(intercept,2))\n",
    "plt.scatter(x_values, y_values)\n",
    "plt.plot(x_values,regress_values,\"red\")\n",
    "\n",
    "plt.ylim(30, 100)\n",
    "plt.xlim(-60, 5)\n",
    "\n",
    "plt.ylabel(\"Max Temp\")\n",
    "plt.xlabel('Latitude')\n",
    "plt.show()\n",
    "\n",
    "print('This graph shows us that there is a loose correlation between latitude and maximum temperature in the Southern Hemisphere. The closer to zero, the higher the tempature. The correlation does not appear as strong as the previous graph.')\n",
    "plt.savefig(\"LATvMaxTemp-South.png\")\n"
   ]
  },
  {
   "cell_type": "markdown",
   "metadata": {},
   "source": [
    "####  Northern Hemisphere - Humidity (%) vs. Latitude Linear Regression"
   ]
  },
  {
   "cell_type": "code",
   "execution_count": 45,
   "metadata": {},
   "outputs": [
    {
     "data": {
      "image/png": "[encoded data removed]",
      "text/plain": [
       "<Figure size 432x288 with 1 Axes>"
      ]
     },
     "metadata": {
      "needs_background": "light"
     },
     "output_type": "display_data"
    },
    {
     "name": "stdout",
     "output_type": "stream",
     "text": [
      "This graph shows us that there does not appear to be much correlation between latitude and humidity in the Northern Hemisphere.\n"
     ]
    },
    {
     "data": {
      "text/plain": [
       "<Figure size 432x288 with 0 Axes>"
      ]
     },
     "metadata": {},
     "output_type": "display_data"
    }
   ],
   "source": [
    "x_values = north_hemisphere['Lat']\n",
    "y_values = north_hemisphere['Humidity']\n",
    "(slope, intercept, rvalue, pvalue, stderr) = linregress(x_values, y_values)\n",
    "regress_values = x_values * slope + intercept\n",
    "line_eq = \"y = \" + str(round(slope,2)) + \"x + \" + str(round(intercept,2))\n",
    "plt.scatter(x_values, y_values)\n",
    "plt.plot(x_values,regress_values,\"red\")\n",
    "\n",
    "plt.ylim(0,105)\n",
    "plt.xlim(0,85)\n",
    "\n",
    "plt.ylabel(\"Humidity\")\n",
    "plt.xlabel('Latitude')\n",
    "plt.show()\n",
    "\n",
    "print('This graph shows us that there does not appear to be much correlation between latitude and humidity in the Northern Hemisphere.')\n",
    "plt.savefig(\"LATvHum-North.png\")"
   ]
  },
  {
   "cell_type": "markdown",
   "metadata": {},
   "source": [
    "####  Southern Hemisphere - Humidity (%) vs. Latitude Linear Regression"
   ]
  },
  {
   "cell_type": "code",
   "execution_count": 46,
   "metadata": {},
   "outputs": [
    {
     "data": {
      "image/png": "[encoded data removed]",
      "text/plain": [
       "<Figure size 432x288 with 1 Axes>"
      ]
     },
     "metadata": {
      "needs_background": "light"
     },
     "output_type": "display_data"
    },
    {
     "name": "stdout",
     "output_type": "stream",
     "text": [
      "This graph shows us that there is not much correlation between humidity and latitude in the Southern Hemisphere.\n"
     ]
    },
    {
     "data": {
      "text/plain": [
       "<Figure size 432x288 with 0 Axes>"
      ]
     },
     "metadata": {},
     "output_type": "display_data"
    }
   ],
   "source": [
    "x_values = south_hemisphere['Lat']\n",
    "y_values = south_hemisphere['Humidity']\n",
    "(slope, intercept, rvalue, pvalue, stderr) = linregress(x_values, y_values)\n",
    "regress_values = x_values * slope + intercept\n",
    "line_eq = \"y = \" + str(round(slope,2)) + \"x + \" + str(round(intercept,2))\n",
    "plt.scatter(x_values, y_values)\n",
    "plt.plot(x_values,regress_values,\"red\")\n",
    "\n",
    "plt.ylim(0, 105)\n",
    "plt.xlim(-60, 5)\n",
    "\n",
    "plt.ylabel(\"Humidity\")\n",
    "plt.xlabel('Latitude')\n",
    "plt.show()\n",
    "\n",
    "print('This graph shows us that there is not much correlation between humidity and latitude in the Southern Hemisphere.')\n",
    "plt.savefig(\"LATvHum-South.png\")\n",
    "\n"
   ]
  },
  {
   "cell_type": "markdown",
   "metadata": {},
   "source": [
    "####  Northern Hemisphere - Cloudiness (%) vs. Latitude Linear Regression"
   ]
  },
  {
   "cell_type": "code",
   "execution_count": 47,
   "metadata": {},
   "outputs": [
    {
     "data": {
      "image/png": "[encoded data removed]",
      "text/plain": [
       "<Figure size 432x288 with 1 Axes>"
      ]
     },
     "metadata": {
      "needs_background": "light"
     },
     "output_type": "display_data"
    },
    {
     "name": "stdout",
     "output_type": "stream",
     "text": [
      "This graph shows us that there is no correlation between cloudiness and the latitude of a city in the Northern Hemisphere.\n"
     ]
    },
    {
     "data": {
      "text/plain": [
       "<Figure size 432x288 with 0 Axes>"
      ]
     },
     "metadata": {},
     "output_type": "display_data"
    }
   ],
   "source": [
    "x_values = north_hemisphere['Lat']\n",
    "y_values = north_hemisphere['Cloudiness']\n",
    "(slope, intercept, rvalue, pvalue, stderr) = linregress(x_values, y_values)\n",
    "regress_values = x_values * slope + intercept\n",
    "line_eq = \"y = \" + str(round(slope,2)) + \"x + \" + str(round(intercept,2))\n",
    "plt.scatter(x_values, y_values)\n",
    "plt.plot(x_values,regress_values,\"red\")\n",
    "\n",
    "plt.ylim(-5,105)\n",
    "plt.xlim(0,85)\n",
    "\n",
    "plt.ylabel(\"Cloudiness\")\n",
    "plt.xlabel('Latitude')\n",
    "plt.show()\n",
    "\n",
    "print('This graph shows us that there is no correlation between cloudiness and the latitude of a city in the Northern Hemisphere.')\n",
    "plt.savefig(\"LATvCloud-North.png\")"
   ]
  },
  {
   "cell_type": "markdown",
   "metadata": {},
   "source": [
    "####  Southern Hemisphere - Cloudiness (%) vs. Latitude Linear Regression"
   ]
  },
  {
   "cell_type": "code",
   "execution_count": 48,
   "metadata": {},
   "outputs": [
    {
     "data": {
      "image/png": "[encoded data removed]",
      "text/plain": [
       "<Figure size 432x288 with 1 Axes>"
      ]
     },
     "metadata": {
      "needs_background": "light"
     },
     "output_type": "display_data"
    },
    {
     "name": "stdout",
     "output_type": "stream",
     "text": [
      "This graph shows us that there is no correlation between cloudiness and the latitude of a city in the Southern Hemisphere.\n"
     ]
    },
    {
     "data": {
      "text/plain": [
       "<Figure size 432x288 with 0 Axes>"
      ]
     },
     "metadata": {},
     "output_type": "display_data"
    }
   ],
   "source": [
    "x_values = south_hemisphere['Lat']\n",
    "y_values = south_hemisphere['Cloudiness']\n",
    "(slope, intercept, rvalue, pvalue, stderr) = linregress(x_values, y_values)\n",
    "regress_values = x_values * slope + intercept\n",
    "line_eq = \"y = \" + str(round(slope,2)) + \"x + \" + str(round(intercept,2))\n",
    "plt.scatter(x_values, y_values)\n",
    "plt.plot(x_values,regress_values,\"red\")\n",
    "\n",
    "plt.ylim(0, 105)\n",
    "plt.xlim(-60, 5)\n",
    "\n",
    "plt.ylabel(\"Cloudiness\")\n",
    "plt.xlabel('Latitude')\n",
    "plt.show()\n",
    "\n",
    "print('This graph shows us that there is no correlation between cloudiness and the latitude of a city in the Southern Hemisphere.')\n",
    "plt.savefig(\"LATvCloud-South.png\")"
   ]
  },
  {
   "cell_type": "markdown",
   "metadata": {},
   "source": [
    "####  Northern Hemisphere - Wind Speed (mph) vs. Latitude Linear Regression"
   ]
  },
  {
   "cell_type": "code",
   "execution_count": 50,
   "metadata": {},
   "outputs": [
    {
     "data": {
      "image/png": "[encoded data removed]",
      "text/plain": [
       "<Figure size 432x288 with 1 Axes>"
      ]
     },
     "metadata": {
      "needs_background": "light"
     },
     "output_type": "display_data"
    },
    {
     "name": "stdout",
     "output_type": "stream",
     "text": [
      "This graph shows us that there is not much correlation between wind speed and latitude in the Northern Hemisphere.\n"
     ]
    },
    {
     "data": {
      "text/plain": [
       "<Figure size 432x288 with 0 Axes>"
      ]
     },
     "metadata": {},
     "output_type": "display_data"
    }
   ],
   "source": [
    "x_values = north_hemisphere['Lat']\n",
    "y_values = north_hemisphere['Wind Speed']\n",
    "(slope, intercept, rvalue, pvalue, stderr) = linregress(x_values, y_values)\n",
    "regress_values = x_values * slope + intercept\n",
    "line_eq = \"y = \" + str(round(slope,2)) + \"x + \" + str(round(intercept,2))\n",
    "plt.scatter(x_values, y_values)\n",
    "plt.plot(x_values,regress_values,\"red\")\n",
    "\n",
    "plt.ylim(-2,50)\n",
    "plt.xlim(0,85)\n",
    "\n",
    "plt.ylabel(\"Wind Speed\")\n",
    "plt.xlabel('Latitude')\n",
    "plt.show()\n",
    "\n",
    "print('This graph shows us that there is not much correlation between wind speed and latitude in the Northern Hemisphere.')\n",
    "plt.savefig(\"LATvWind-North.png\")"
   ]
  },
  {
   "cell_type": "markdown",
   "metadata": {},
   "source": [
    "####  Southern Hemisphere - Wind Speed (mph) vs. Latitude Linear Regression"
   ]
  },
  {
   "cell_type": "code",
   "execution_count": 53,
   "metadata": {},
   "outputs": [
    {
     "data": {
      "image/png": "[encoded data removed]",
      "text/plain": [
       "<Figure size 432x288 with 1 Axes>"
      ]
     },
     "metadata": {
      "needs_background": "light"
     },
     "output_type": "display_data"
    },
    {
     "name": "stdout",
     "output_type": "stream",
     "text": [
      "This graph shows us that there is not much correlation between wind speed and latitude in the Southern Hemisphere.\n"
     ]
    },
    {
     "data": {
      "text/plain": [
       "<Figure size 432x288 with 0 Axes>"
      ]
     },
     "metadata": {},
     "output_type": "display_data"
    }
   ],
   "source": [
    "x_values = south_hemisphere['Lat']\n",
    "y_values = south_hemisphere['Wind Speed']\n",
    "(slope, intercept, rvalue, pvalue, stderr) = linregress(x_values, y_values)\n",
    "regress_values = x_values * slope + intercept\n",
    "line_eq = \"y = \" + str(round(slope,2)) + \"x + \" + str(round(intercept,2))\n",
    "plt.scatter(x_values, y_values)\n",
    "plt.plot(x_values,regress_values,\"red\")\n",
    "\n",
    "plt.ylim(-2, 50)\n",
    "plt.xlim(-60, 5)\n",
    "\n",
    "plt.ylabel(\"Wind Speed\")\n",
    "plt.xlabel('Latitude')\n",
    "plt.show()\n",
    "\n",
    "print('This graph shows us that there is not much correlation between wind speed and latitude in the Southern Hemisphere.')\n",
    "plt.savefig(\"LATvWind-South.png\")\n",
    "\n"
   ]
  },
  {
   "cell_type": "code",
   "execution_count": null,
   "metadata": {},
   "outputs": [],
   "source": []
  }
 ],
 "metadata": {
  "anaconda-cloud": {},
  "kernel_info": {
   "name": "python3"
  },
  "kernelspec": {
   "display_name": "MyPythonEnv",
   "language": "python",
   "name": "mypythonenv"
  },
  "language_info": {
   "codemirror_mode": {
    "name": "ipython",
    "version": 3
   },
   "file_extension": ".py",
   "mimetype": "text/x-python",
   "name": "python",
   "nbconvert_exporter": "python",
   "pygments_lexer": "ipython3",
   "version": "3.8.3"
  },
  "latex_envs": {
   "LaTeX_envs_menu_present": true,
   "autoclose": false,
   "autocomplete": true,
   "bibliofile": "biblio.bib",
   "cite_by": "apalike",
   "current_citInitial": 1,
   "eqLabelWithNumbers": true,
   "eqNumInitial": 1,
   "hotkeys": {
    "equation": "Ctrl-E",
    "itemize": "Ctrl-I"
   },
   "labels_anchors": false,
   "latex_user_defs": false,
   "report_style_numbering": false,
   "user_envs_cfg": false
  },
  "nteract": {
   "version": "0.12.3"
  }
 },
 "nbformat": 4,
 "nbformat_minor": 2
}
